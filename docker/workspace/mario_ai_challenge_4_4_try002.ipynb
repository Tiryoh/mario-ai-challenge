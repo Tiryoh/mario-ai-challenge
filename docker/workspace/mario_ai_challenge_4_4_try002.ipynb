{
 "cells": [
  {
   "cell_type": "markdown",
   "metadata": {
    "id": "7uV4DXW7Twmn"
   },
   "source": [
    "# マリオAIチャレンジ 4-4\n",
    "\n",
    "AIを使ってマリオを全ステージクリアするチャレンジ「Mario Ai Challenge」のステージ4-4のノートブックです。\n",
    "\n",
    "プロジェクトページ（GitHub Pages）は以下となります。\n",
    "\n",
    "https://karaage0703.github.io/mario-ai-challenge/\n",
    "\n",
    "### 4-4 Issue\n",
    "\n",
    "https://github.com/karaage0703/mario-ai-challenge/issues/30"
   ]
  },
  {
   "cell_type": "markdown",
   "metadata": {
    "id": "AL97WifgnV8k"
   },
   "source": [
    "## 最初に\n",
    "本チャレンジは、PyTorch公式のチュートリアルの[Train a MARIO-Playing RL Agent](https://pytorch.org/tutorials/intermediate/mario_rl_tutorial.html)及び、その日本語訳の[PyTorchチュートリアル（日本語翻訳版）](https://yutaroogawa.github.io/pytorch_tutorials_jp/)の「強化学習を用いたマリオの訓練」、その他多くのWeb上の知見を参考に作成しました。\n",
    "\n",
    "本ノートブックのライセンスは、上記のチュートリアルのライセンスに準じたものになります（詳細は、それぞれのリンク先で確認ください）。\n",
    "\n",
    "参考にしたサイトは、[GitHubのREFERENCES](https://github.com/karaage0703/mario-ai-challenge/blob/main/REFERENCES.md)にまとめてあります。貴重な知見に心より感謝いたします。"
   ]
  },
  {
   "cell_type": "markdown",
   "metadata": {},
   "source": [
    "また、本ノートブックはGoogle ColabではなくRTX 3060搭載のWindowsマシン/RTX 2070 SUPER搭載のUbuntuマシンにて実行して作成されました。  \n",
    "そのためGoogle Colabでのみ必要なセルについてはコメントアウトされています。\n",
    "Google Colabで使用する際は適宜コメントを解除してください。"
   ]
  },
  {
   "cell_type": "markdown",
   "metadata": {
    "id": "sLsk4GD5ykVd"
   },
   "source": [
    "## ハイパーパラメータの設定\n",
    "主要なハイパーパラメータを最初に設定します。以下のリポジトリを大いに参考にしています。\n",
    "\n",
    "https://github.com/uvipen/Super-mario-bros-PPO-pytorch"
   ]
  },
  {
   "cell_type": "code",
   "execution_count": 1,
   "metadata": {
    "id": "ADN0bEueUfij"
   },
   "outputs": [],
   "source": [
    "# 6-4のパラメータを参考にしました\n",
    "# https://github.com/karaage0703/mario-ai-challenge/issues/36\n",
    "# Env Param\n",
    "STAGE_NAME = 'SuperMarioBros-4-4-v0'\n",
    "SKIP_NUMB = 4\n",
    "STACK_FRAME_NUMB = 4\n",
    "RESIZE_SIZE = 84\n",
    "\n",
    "# Model Param\n",
    "CHECK_FREQ_NUMB = 10000\n",
    "TOTAL_TIMESTEP_NUMB = 5000000\n",
    "LEARNING_RATE = 0.000025  # 0.00001\n",
    "GAE = 1.0\n",
    "ENT_COEF = 0.01\n",
    "N_STEPS = 512\n",
    "GAMMA = 0.9\n",
    "BATCH_SIZE = 64\n",
    "N_EPOCHS = 10\n",
    "\n",
    "# Test Param\n",
    "EPISODE_NUMBERS = 20\n",
    "MAX_TIMESTEP_TEST = 1000"
   ]
  },
  {
   "cell_type": "markdown",
   "metadata": {
    "id": "MNFA8s7rwVxN"
   },
   "source": [
    "## Google Driveとの連携\n",
    "\n",
    "Google Driveに学習したモデルを保存するために実施します。"
   ]
  },
  {
   "cell_type": "code",
   "execution_count": null,
   "metadata": {
    "colab": {
     "base_uri": "https://localhost:8080/"
    },
    "id": "mRoQ8-uPwX80",
    "outputId": "5b38b84a-66eb-4ec1-a55c-c1a7ca39784d"
   },
   "outputs": [],
   "source": [
    "# from google.colab import drive\n",
    "# drive.mount('/content/drive')"
   ]
  },
  {
   "cell_type": "markdown",
   "metadata": {
    "id": "4-lV_UerMLQE"
   },
   "source": [
    "Google Driveにログ用のディレクトリを作成"
   ]
  },
  {
   "cell_type": "code",
   "execution_count": 2,
   "metadata": {
    "colab": {
     "base_uri": "https://localhost:8080/"
    },
    "id": "jXGQIFpyMLht",
    "outputId": "b60618e5-55e9-469b-d5a8-3cb74e8a8c3a"
   },
   "outputs": [
    {
     "name": "stdout",
     "output_type": "stream",
     "text": [
      "log dir exist.\n"
     ]
    }
   ],
   "source": [
    "import os\n",
    "# LOG_DIR = '/content/drive/MyDrive/gym_mario/'\n",
    "LOG_DIR = './logs/'\n",
    "if os.path.exists(LOG_DIR):\n",
    "    print('log dir exist.')\n",
    "else:\n",
    "    print('log dir not exist.')\n",
    "    os.makedirs(LOG_DIR)"
   ]
  },
  {
   "cell_type": "markdown",
   "metadata": {
    "id": "sp7cIywprfIH"
   },
   "source": [
    "## 必要なライブラリのインストールとインポート\n",
    "AIマリオに必要なライブラリのインストールとインポートを行います。"
   ]
  },
  {
   "cell_type": "markdown",
   "metadata": {
    "id": "RPnAHd9WeQkz"
   },
   "source": [
    "[OpenAI Gymのマリオ用パッケージ](https://github.com/Kautenja/gym-super-mario-bros)をインストールします。強化学習の環境として使用します。詳細の仕様は[GitHub](https://github.com/Kautenja/gym-super-mario-bros)参照ください。\n"
   ]
  },
  {
   "cell_type": "code",
   "execution_count": null,
   "metadata": {
    "colab": {
     "base_uri": "https://localhost:8080/"
    },
    "id": "bkd4mMOAUbt1",
    "outputId": "5f93465f-55ae-45b3-f8d6-b10859b48b4c"
   },
   "outputs": [],
   "source": [
    "# !pip install -qq gym-super-mario-bros==7.3.0"
   ]
  },
  {
   "cell_type": "markdown",
   "metadata": {
    "id": "vtY9MC-Vq-Hv"
   },
   "source": [
    "その他、必要なライブラリをインストールします。"
   ]
  },
  {
   "cell_type": "code",
   "execution_count": null,
   "metadata": {
    "colab": {
     "base_uri": "https://localhost:8080/"
    },
    "id": "zMBp7lLX5b4t",
    "outputId": "bd140902-3cb5-494d-e720-351f6a55bd28"
   },
   "outputs": [],
   "source": [
    "# !apt -qq update\n",
    "# !apt install -y -qq xvfb\n",
    "# !pip install -qq pyvirtualdisplay"
   ]
  },
  {
   "cell_type": "markdown",
   "metadata": {
    "id": "gddw9CE-rCer"
   },
   "source": [
    "必要なライブラリをインポートします。"
   ]
  },
  {
   "cell_type": "code",
   "execution_count": 3,
   "metadata": {
    "id": "2HK668vmggdk"
   },
   "outputs": [],
   "source": [
    "# Import the game\n",
    "import gym_super_mario_bros\n",
    "# Import the Joypad wrapper\n",
    "from nes_py.wrappers import JoypadSpace\n",
    "# Import the SIMPLIFIED controls\n",
    "from gym.spaces import Box\n",
    "from gym_super_mario_bros.actions import SIMPLE_MOVEMENT\n",
    "from gym_super_mario_bros.actions import COMPLEX_MOVEMENT\n",
    "from gym_super_mario_bros.actions import RIGHT_ONLY\n",
    "\n",
    "import gym\n",
    "import numpy as np\n",
    "import matplotlib.pyplot as plt\n",
    "import cv2"
   ]
  },
  {
   "cell_type": "markdown",
   "metadata": {
    "id": "jD7MnXn-x7Us"
   },
   "source": [
    "強化学習に使われる`stable-baselines3`というライブラリをインストールします。ドキュメントは以下参照ください。\n",
    "\n",
    "https://stable-baselines3.readthedocs.io/en/master/index.html"
   ]
  },
  {
   "cell_type": "code",
   "execution_count": null,
   "metadata": {
    "colab": {
     "base_uri": "https://localhost:8080/"
    },
    "id": "1R5gIxp3hSe1",
    "outputId": "23211ce5-2bed-410d-da36-cafdbeab82a0"
   },
   "outputs": [],
   "source": [
    "# Install stable baselines for RL stuff\n",
    "# !pip -qq install stable-baselines3[extra]==1.3.0"
   ]
  },
  {
   "cell_type": "markdown",
   "metadata": {
    "id": "Le1nD4lhrQ88"
   },
   "source": [
    "`stable-baselines3`と、そのバックエンドに使われている`PyTorch`のバージョンを確認しておきます。"
   ]
  },
  {
   "cell_type": "code",
   "execution_count": 4,
   "metadata": {
    "colab": {
     "base_uri": "https://localhost:8080/"
    },
    "id": "TAXsUC8Lr8xh",
    "outputId": "e90c38cb-996c-496b-de25-2ab4fbed7a92"
   },
   "outputs": [
    {
     "name": "stdout",
     "output_type": "stream",
     "text": [
      "Name: stable-baselines3\n",
      "Version: 1.3.0\n",
      "Summary: Pytorch version of Stable Baselines, implementations of reinforcement learning algorithms.\n",
      "Home-page: https://github.com/DLR-RM/stable-baselines3\n",
      "Author: Antonin Raffin\n",
      "Author-email: antonin.raffin@dlr.de\n",
      "License: MIT\n",
      "Location: /opt/conda/lib/python3.7/site-packages\n",
      "Requires: torch, pandas, numpy, gym, cloudpickle, matplotlib\n",
      "Required-by: \n",
      "Name: torch\n",
      "Version: 1.10.0\n",
      "Summary: Tensors and Dynamic neural networks in Python with strong GPU acceleration\n",
      "Home-page: https://pytorch.org/\n",
      "Author: PyTorch Team\n",
      "Author-email: packages@pytorch.org\n",
      "License: BSD-3\n",
      "Location: /opt/conda/lib/python3.7/site-packages\n",
      "Requires: typing_extensions\n",
      "Required-by: torchvision, torchtext, torchelastic, stable-baselines3\n"
     ]
    }
   ],
   "source": [
    "!pip show stable-baselines3\n",
    "!pip show torch"
   ]
  },
  {
   "cell_type": "markdown",
   "metadata": {
    "id": "E05HX02Ab4au"
   },
   "source": [
    "## AIマリオ環境の構築\n",
    "\n",
    "AIマリオの環境構築を行います。\n",
    "\n"
   ]
  },
  {
   "cell_type": "markdown",
   "metadata": {
    "id": "kAYJDcRPiMv_"
   },
   "source": [
    "### AIマリオ環境初期化と動作確認\n",
    "最初に一回確認したら、ここは飛ばしても大丈夫です。"
   ]
  },
  {
   "cell_type": "code",
   "execution_count": 5,
   "metadata": {
    "id": "lP3htmWUPKHL"
   },
   "outputs": [],
   "source": [
    "# マリオの環境を初期化します。\n",
    "env = gym_super_mario_bros.make(STAGE_NAME)\n",
    "\n",
    "# マリオの行動空間を設定\n",
    "MOVEMENT = [['left', 'A'], ['right', 'B'], ['right', 'A', 'B']]\n",
    "env = JoypadSpace(env, MOVEMENT)\n",
    "# env = JoypadSpace(env, SIMPLE_MOVEMENT)\n",
    "# env = JoypadSpace(env, COMPLEX_MOVEMENT)\n",
    "# env = JoypadSpace(env, RIGHT_ONLY)"
   ]
  },
  {
   "cell_type": "markdown",
   "metadata": {
    "id": "ArneJLzbsOby"
   },
   "source": [
    "ステージの初期化と行動空間の設定をしています。\n",
    "\n",
    "PyTorchチュートリアルでは、以下のように2パターンに単純化した行動をするマリオに制限されています。\n",
    "\n",
    "```\n",
    "# 行動空間を以下に制限\n",
    "#   0. 右に歩く\n",
    "#   1. 右方向にジャンプ\n",
    "env = JoypadSpace(env, [[\"right\"], [\"right\", \"A\"]])\n",
    "```\n",
    "\n",
    "自分で自由に設定する他、`gym_super_mario_bros`では`SIMPLE_MOVEMENT`, `COMPLEX_MOVEMENT`といった複数のパターンが登録されています。どのようなパターンがあるかは、[gym_super_mario_brosのソースコード](https://github.com/Kautenja/gym-super-mario-bros/blob/master/gym_super_mario_bros/actions.py)を読むか、以下のように中身を`print`して確認する方法があります。"
   ]
  },
  {
   "cell_type": "code",
   "execution_count": null,
   "metadata": {
    "colab": {
     "base_uri": "https://localhost:8080/"
    },
    "id": "R9UdQXeGxrJx",
    "outputId": "7598b1eb-c44e-4e78-ffe6-8d3983815d71"
   },
   "outputs": [],
   "source": [
    "print(SIMPLE_MOVEMENT)\n",
    "print(COMPLEX_MOVEMENT)"
   ]
  },
  {
   "cell_type": "markdown",
   "metadata": {
    "id": "rnRXtGZZtHy6"
   },
   "source": [
    "環境をリセットして、環境を確認します。\n",
    "\n",
    "`env.step(action=0)`と、エージェント（マリオ）がアクションすると、環境から状態(`state`)と報酬(`reward`)、終了したかのフラグ(`done`)、情報(`info`)が返ってきます。"
   ]
  },
  {
   "cell_type": "code",
   "execution_count": 6,
   "metadata": {
    "colab": {
     "base_uri": "https://localhost:8080/"
    },
    "id": "bgewUGcHtIWj",
    "outputId": "2261cedc-fc59-46bd-8b22-816f4f444723"
   },
   "outputs": [
    {
     "name": "stdout",
     "output_type": "stream",
     "text": [
      "state: (240, 256, 3)\n",
      "reward: 0\n",
      "done: False\n",
      "info: {'coins': 0, 'flag_get': False, 'life': 2, 'score': 0, 'stage': 4, 'status': 'small', 'time': 400, 'world': 4, 'x_pos': 40, 'x_pos_screen': 40, 'y_pos': 175}\n"
     ]
    }
   ],
   "source": [
    "env.reset()\n",
    "state, reward, done, info = env.step(action=0)\n",
    "\n",
    "print('state:', state.shape)\n",
    "print('reward:', reward)\n",
    "print('done:', done)\n",
    "print('info:', info)"
   ]
  },
  {
   "cell_type": "markdown",
   "metadata": {
    "id": "BTAfyErJtf7Z"
   },
   "source": [
    "行動`action`の範囲や状態`state`の範囲を確認したい場合は、以下を実行してください。\n",
    "\n",
    "```python\n",
    "from gym.spaces import Box, Discrete\n",
    "def print_spaces(space):\n",
    "    print(space)\n",
    "\n",
    "    if isinstance(space, Box):\n",
    "        print('min:', space.low)\n",
    "        print('max:', space.high)\n",
    "    if isinstance(space, Discrete):\n",
    "        print('min:', 0)\n",
    "        print('max:', space.n-1)\n",
    "\n",
    "print('action space------------------')\n",
    "print_spaces(env.action_space)\n",
    "print('observation space------------------')\n",
    "print_spaces(env.observation_space)\n",
    "```"
   ]
  },
  {
   "cell_type": "markdown",
   "metadata": {
    "id": "0rfpE6Gzu17o"
   },
   "source": [
    "最後に`state`を画像として可視化してみます。"
   ]
  },
  {
   "cell_type": "code",
   "execution_count": 7,
   "metadata": {
    "colab": {
     "base_uri": "https://localhost:8080/",
     "height": 287
    },
    "id": "OJ-fHsIRe1YF",
    "outputId": "0c7ef14f-79a7-47ca-c902-3c0569c39536"
   },
   "outputs": [
    {
     "data": {
      "text/plain": [
       "<matplotlib.image.AxesImage at 0x7faaedd8ca10>"
      ]
     },
     "execution_count": 7,
     "metadata": {},
     "output_type": "execute_result"
    },
    {
     "data": {
      "image/png": "[encoded data removed]",
      "text/plain": [
       "<Figure size 432x288 with 1 Axes>"
      ]
     },
     "metadata": {
      "needs_background": "light"
     },
     "output_type": "display_data"
    }
   ],
   "source": [
    "plt.imshow(state)"
   ]
  },
  {
   "cell_type": "markdown",
   "metadata": {
    "id": "GCsbDnPkvAja"
   },
   "source": [
    "まさにマリオのプレイ画面ですね。"
   ]
  },
  {
   "cell_type": "markdown",
   "metadata": {
    "id": "WQlrW7CxcpdH"
   },
   "source": [
    "### AIマリオ環境の前処理\n",
    "環境に対して、前処理をしていきます。\n",
    "\n",
    "具体的には、画像のリサイズやグレイスケール化、報酬設計の調整等です。\n",
    "\n",
    "深層強化学習に限らず、機械学習ではこの前処理が非常に重要となります。\n",
    "\n",
    "AIマリオ環境のフレームワークとして用いられているOpenAI Gymではカスタムラッパーを使って、環境に前処理を行っていくのがお作法となります。\n",
    "\n",
    "以下ラッパーの説明をしていきます。"
   ]
  },
  {
   "cell_type": "markdown",
   "metadata": {
    "id": "oO3I2E4B3alI"
   },
   "source": [
    "- `SkipFrame`: `gym.Wrapper`を継承し`step()`関数を実装したカスタムのラッパーです。何フレームか同じ行動をとるようにすることで、行動を簡易化しています。\n",
    "- `GrayScaleObservation`: 画像をグレースケールに変換します。マリオに関しては色はそれほど重要でないと考えられるのでグレースケールを使います。色が重要なゲームでは使えない手法です。\n",
    "- `ResizeEnv`: 画像をリサイズ（小さく）します。[baselinesのretro_wrappers.py](https://github.com/openai/baselines/blob/master/baselines/common/retro_wrappers.py)を参考にしました。\n",
    "- `VecFrameStack`: 連続したフレームを1つにまとめるラッパーです。これで、マリオの行動をジャンプや走るといった動きとして認識できるようになります。\n",
    "- `DummyVecEnv`: 学習のために必要なデータ変換となります。詳細は以下などを参照ください。これを実施すると、`env.step(1)`から`env.step([1])`といった形で、アクションの指定の形式が変わります。[こちら](https://note.com/npaka/n/n5d7d235ad8bc)や[こちら](https://kiyosucyberclub.web.fc2.com/OpenAI_Gym/Gym02-01.html)を参照ください。\n",
    "- `CustomRewardAndDoneEnv`: 報酬や終了条件をカスタムするラッパーです。[こちら](https://qiita.com/hrs1985/items/871ca5d037d73558bfca)のサイトを参考に、マリオが一機死んだら終了するように変更しています。報酬の調整も可能です。\n",
    "\n",
    "今回は、多くを独自に実装していますが、以下のようなStable Baselines3用に用意されているWrapperを使っても良いと思います。\n",
    "\n",
    "https://stable-baselines3.readthedocs.io/en/master/common/atari_wrappers.html"
   ]
  },
  {
   "cell_type": "markdown",
   "metadata": {
    "id": "Bz8alEyIFLTr"
   },
   "source": [
    "ラッパーのインポートや定義を行います。"
   ]
  },
  {
   "cell_type": "code",
   "execution_count": 8,
   "metadata": {
    "id": "X8UKDDPmFKiC"
   },
   "outputs": [],
   "source": [
    "# Import Frame Stacker Wrapper and GrayScaling Wrapper\n",
    "from gym.wrappers import GrayScaleObservation\n",
    "# Import Vectorization Wrappers\n",
    "from stable_baselines3.common.vec_env import VecFrameStack, DummyVecEnv"
   ]
  },
  {
   "cell_type": "code",
   "execution_count": 9,
   "metadata": {
    "id": "p_ejoCKVUp11"
   },
   "outputs": [],
   "source": [
    "class SkipFrame(gym.Wrapper):\n",
    "    def __init__(self, env, skip):\n",
    "        \"\"\"スキップした後のフレームのみを返す\"\"\"\n",
    "        super().__init__(env)\n",
    "        self._skip = skip\n",
    "\n",
    "    def step(self, action):\n",
    "        \"\"\"行動を繰り返し、報酬を合計する\"\"\"\n",
    "        total_reward = 0.0\n",
    "        done = False\n",
    "        for i in range(self._skip):\n",
    "            # 報酬を蓄積し、同じ行動を繰り返す\n",
    "            obs, reward, done, info = self.env.step(action)\n",
    "            total_reward += reward\n",
    "            if done:\n",
    "                break\n",
    "        return obs, total_reward, done, info"
   ]
  },
  {
   "cell_type": "code",
   "execution_count": 10,
   "metadata": {
    "id": "NE_Qu_rbTmt0"
   },
   "outputs": [],
   "source": [
    "class ResizeEnv(gym.ObservationWrapper):\n",
    "    def __init__(self, env, size):\n",
    "        \"\"\"\n",
    "        Downsample images by a factor of ratio\n",
    "        \"\"\"\n",
    "        gym.ObservationWrapper.__init__(self, env)\n",
    "        (oldh, oldw, oldc) = env.observation_space.shape\n",
    "        newshape = (size, size, oldc)\n",
    "        self.observation_space = gym.spaces.Box(low=0, high=255,\n",
    "            shape=newshape, dtype=np.uint8)\n",
    "\n",
    "    def observation(self, frame):\n",
    "        height, width, _ = self.observation_space.shape\n",
    "        frame = cv2.resize(frame, (width, height), interpolation=cv2.INTER_AREA)\n",
    "        if frame.ndim == 2:\n",
    "            frame = frame[:,:,None]\n",
    "        return frame"
   ]
  },
  {
   "cell_type": "code",
   "execution_count": 11,
   "metadata": {
    "id": "GcSIZGkxfwqk"
   },
   "outputs": [],
   "source": [
    "class CustomRewardAndDoneEnv(gym.Wrapper):\n",
    "    def __init__(self, env=None):\n",
    "        super(CustomRewardAndDoneEnv, self).__init__(env)\n",
    "        self.current_score = 0\n",
    "        self.current_x = 0\n",
    "        self.current_x_count = 0\n",
    "        self.max_x = 0\n",
    "\n",
    "    def reset(self, **kwargs):\n",
    "        self.current_score = 0\n",
    "        self.current_x = 0\n",
    "        self.current_x_count = 0\n",
    "        self.max_x = 0\n",
    "        return self.env.reset(**kwargs)\n",
    "\n",
    "    def step(self, action):\n",
    "        state, reward, done, info = self.env.step(action)\n",
    "\n",
    "        # # スコア報酬加算\n",
    "        # reward += (info[\"score\"] - self.current_score) / 40.\n",
    "\n",
    "        # 前進報酬加算\n",
    "        reward += max(0, info['x_pos'] - self.max_x)\n",
    "\n",
    "        # 同じ位置に引っかかっていたら終了\n",
    "        if (info['x_pos'] - self.current_x) == 0:\n",
    "            self.current_x_count += 1\n",
    "        else:\n",
    "            self.current_x_count = 0\n",
    "        # if self.current_x_count > 20:\n",
    "        #     reward -= 50     \n",
    "        #     done =True\n",
    "\n",
    "        # ゴール判定\n",
    "        if info[\"flag_get\"]:\n",
    "            reward += 500\n",
    "            done = True\n",
    "            print(\"GOAL\")\n",
    "\n",
    "        # 死亡判定\n",
    "        if info[\"life\"] < 2:\n",
    "            reward -= 500\n",
    "            done = True\n",
    "\n",
    "        self.current_score = info[\"score\"]\n",
    "        self.max_x = max(self.max_x, self.current_x)\n",
    "        self.current_x = info[\"x_pos\"]\n",
    "\n",
    "        return state, reward / 10., done, info"
   ]
  },
  {
   "cell_type": "markdown",
   "metadata": {
    "id": "jnMFEooe9wau"
   },
   "source": [
    "環境を再度作成して、Wrapperを適用し、前処理を行います。"
   ]
  },
  {
   "cell_type": "code",
   "execution_count": 12,
   "metadata": {
    "id": "0k-tmBN-LC2S"
   },
   "outputs": [],
   "source": [
    "MOVEMENT = [['left', 'A'], ['right', 'B'], ['right', 'A', 'B']]\n",
    "env = gym_super_mario_bros.make(STAGE_NAME)\n",
    "# env = JoypadSpace(env, SIMPLE_MOVEMENT)\n",
    "env = JoypadSpace(env, MOVEMENT)\n",
    "env = CustomRewardAndDoneEnv(env)\n",
    "env = SkipFrame(env, skip=SKIP_NUMB)\n",
    "env = GrayScaleObservation(env, keep_dim=True)\n",
    "env = ResizeEnv(env, size=84)\n",
    "env = DummyVecEnv([lambda: env])\n",
    "env = VecFrameStack(env, STACK_FRAME_NUMB, channels_order='last')"
   ]
  },
  {
   "cell_type": "markdown",
   "metadata": {
    "id": "hnbdcSKpSysU"
   },
   "source": [
    "## 環境の確認\n",
    "構築した環境の確認をします。確認が不要な場合はここは飛ばしてOKです。"
   ]
  },
  {
   "cell_type": "markdown",
   "metadata": {
    "id": "bmB8RJVWmDJ3"
   },
   "source": [
    "上記のラッパーを環境に適用すると、最終的な状態（ラップされた結果の状態）は、下図の左側の画像のように4つの連続したグレースケールのフレームを重ね合わせたものになります。\n",
    "\n",
    "マリオが行動を取るたびに、環境はこのような構造を持つ状態を返します。\n",
    "\n",
    "この構造は、サイズ`[1, WIDTH, HEIGHT, STACK_FRAME_NUMB]`のテンソルで表されます。\n",
    "\n",
    "最初の1は`Dummy Vector`の分で`WIDTH, HEIGHT`がダウンサンプリングした画像のサイズ。最後の`STACK_FRAME_NUMB`連続のフレームになります。\n",
    "\n",
    "実際の中身を見てみましょう"
   ]
  },
  {
   "cell_type": "markdown",
   "metadata": {
    "id": "DSVSbmi2m6QP"
   },
   "source": [
    "![image.png](data:image/png;base64,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)"
   ]
  },
  {
   "cell_type": "markdown",
   "metadata": {
    "id": "7CYTXhbnVn-F"
   },
   "source": [
    "構築した環境を確認します。"
   ]
  },
  {
   "cell_type": "code",
   "execution_count": 13,
   "metadata": {
    "colab": {
     "base_uri": "https://localhost:8080/"
    },
    "id": "hNTBwi2VLZVs",
    "outputId": "5ded925f-3156-40e9-d055-49de3744f9a3"
   },
   "outputs": [
    {
     "name": "stdout",
     "output_type": "stream",
     "text": [
      "state: (1, 84, 84, 4)\n",
      "reward: [7.8]\n",
      "done: [False]\n",
      "info: [{'coins': 0, 'flag_get': False, 'life': 2, 'score': 0, 'stage': 4, 'status': 'small', 'time': 400, 'world': 4, 'x_pos': 39, 'x_pos_screen': 39, 'y_pos': 189}]\n"
     ]
    }
   ],
   "source": [
    "env.reset()\n",
    "state, reward, done, info = env.step([0])\n",
    "\n",
    "print('state:', state.shape)\n",
    "print('reward:', reward)\n",
    "print('done:', done)\n",
    "print('info:', info)"
   ]
  },
  {
   "cell_type": "markdown",
   "metadata": {
    "id": "mUjvrAfcsqzv"
   },
   "source": [
    "`STACK_FRAME_NUMB`フレーム分表示します。"
   ]
  },
  {
   "cell_type": "code",
   "execution_count": 14,
   "metadata": {
    "id": "UW_ZJdsJLd9x"
   },
   "outputs": [],
   "source": [
    "def display_all_frame():\n",
    "    plt.figure(figsize=(16,16))\n",
    "    for idx in range(state.shape[3]):\n",
    "        plt.subplot(1,STACK_FRAME_NUMB,idx+1)\n",
    "        plt.imshow(state[0][:,:,idx])\n",
    "    plt.show()"
   ]
  },
  {
   "cell_type": "code",
   "execution_count": 15,
   "metadata": {
    "colab": {
     "base_uri": "https://localhost:8080/",
     "height": 245
    },
    "id": "Ma4ChR6qSktO",
    "outputId": "9c84f99a-7348-4925-c8f1-d93c891cd31e"
   },
   "outputs": [
    {
     "data": {
      "image/png": "[encoded data removed]",
      "text/plain": [
       "<Figure size 1152x1152 with 4 Axes>"
      ]
     },
     "metadata": {
      "needs_background": "light"
     },
     "output_type": "display_data"
    }
   ],
   "source": [
    "display_all_frame()"
   ]
  },
  {
   "cell_type": "code",
   "execution_count": 16,
   "metadata": {
    "colab": {
     "base_uri": "https://localhost:8080/"
    },
    "id": "utFJqF7sSKQ9",
    "outputId": "88b00d7a-aba0-4956-e6c9-765c074b510a"
   },
   "outputs": [
    {
     "name": "stdout",
     "output_type": "stream",
     "text": [
      "state: (1, 84, 84, 4)\n",
      "reward: [7.8]\n",
      "done: [False]\n",
      "info: [{'coins': 0, 'flag_get': False, 'life': 2, 'score': 0, 'stage': 4, 'status': 'small', 'time': 400, 'world': 4, 'x_pos': 39, 'x_pos_screen': 39, 'y_pos': 189}]\n"
     ]
    }
   ],
   "source": [
    "print('state:', state.shape)\n",
    "print('reward:', reward)\n",
    "print('done:', done)\n",
    "print('info:', info)"
   ]
  },
  {
   "cell_type": "markdown",
   "metadata": {
    "id": "JLoZhlKdst9s"
   },
   "source": [
    "右ジャンプの操作をして表示してみます。操作に関しては以下コードで対応するアクションを確認しましょう。\n",
    "\n",
    "- https://github.com/Kautenja/gym-super-mario-bros/blob/master/gym_super_mario_bros/actions.py"
   ]
  },
  {
   "cell_type": "code",
   "execution_count": 17,
   "metadata": {
    "colab": {
     "base_uri": "https://localhost:8080/",
     "height": 245
    },
    "id": "4nojMgcXLwO0",
    "outputId": "9b82a624-49f2-4791-d576-c417ed911d25"
   },
   "outputs": [
    {
     "data": {
      "image/png": "[encoded data removed]",
      "text/plain": [
       "<Figure size 1152x1152 with 4 Axes>"
      ]
     },
     "metadata": {
      "needs_background": "light"
     },
     "output_type": "display_data"
    }
   ],
   "source": [
    "state, reward, done, info = env.step([2])\n",
    "display_all_frame()"
   ]
  },
  {
   "cell_type": "code",
   "execution_count": 18,
   "metadata": {
    "colab": {
     "base_uri": "https://localhost:8080/"
    },
    "id": "P0ra7DLTSQid",
    "outputId": "88718051-8cc3-4473-c369-16a507b024c4"
   },
   "outputs": [
    {
     "name": "stdout",
     "output_type": "stream",
     "text": [
      "state: (1, 84, 84, 4)\n",
      "reward: [-0.1]\n",
      "done: [False]\n",
      "info: [{'coins': 0, 'flag_get': False, 'life': 2, 'score': 0, 'stage': 4, 'status': 'small', 'time': 400, 'world': 4, 'x_pos': 38, 'x_pos_screen': 38, 'y_pos': 186}]\n"
     ]
    }
   ],
   "source": [
    "print('state:', state.shape)\n",
    "print('reward:', reward)\n",
    "print('done:', done)\n",
    "print('info:', info)"
   ]
  },
  {
   "cell_type": "markdown",
   "metadata": {
    "id": "oQ5M8KHNiSdA"
   },
   "source": [
    "## AIマリオの学習\n",
    "\n",
    "AIモデルの学習をします。学習済みのモデルを使う場合は、ここは飛ばして次のAIマリオのテストまで行ってください。"
   ]
  },
  {
   "cell_type": "markdown",
   "metadata": {
    "id": "4aPu-Q6dummA"
   },
   "source": [
    "必要なライブラリをインポートします。"
   ]
  },
  {
   "cell_type": "code",
   "execution_count": 19,
   "metadata": {
    "id": "jbV-nVYPugbM"
   },
   "outputs": [],
   "source": [
    "# Import PPO for algos\n",
    "from stable_baselines3 import PPO\n",
    "import torch as th\n",
    "from torch import nn\n",
    "\n",
    "# Import Base Callback for saving models\n",
    "from stable_baselines3.common.callbacks import BaseCallback\n",
    "from stable_baselines3.common.torch_layers import BaseFeaturesExtractor"
   ]
  },
  {
   "cell_type": "markdown",
   "metadata": {
    "id": "HLU0q0oQurFi"
   },
   "source": [
    "カスタムしたCNNを定義します。\n",
    "\n",
    "参考：\n",
    "- https://github.com/DLR-RM/stable-baselines3/blob/201fbffa8c40a628ecb2b30fd0973f3b171e6c4c/stable_baselines3/common/torch_layers.py#L51\n",
    "- https://stable-baselines3.readthedocs.io/en/master/guide/custom_policy.html\n",
    "- https://github.com/uvipen/Super-mario-bros-PPO-pytorch/blob/master/src/model.py\n",
    "- https://deepblue-ts.co.jp/machine-learning/pytorch_sequential/\n",
    "- https://github.com/karaage0703/karaage-ai-book/blob/master/ch02/02_karaage_ai_book_image_classification_pytorch.ipynb\n",
    "- https://nobunaga.hatenablog.jp/entry/2018/09/23/171149"
   ]
  },
  {
   "cell_type": "code",
   "execution_count": 20,
   "metadata": {
    "id": "l0YU-H-1usoV"
   },
   "outputs": [],
   "source": [
    "class MarioNet(BaseFeaturesExtractor):\n",
    "\n",
    "    def __init__(self, observation_space: gym.spaces.Box, features_dim):\n",
    "        super(MarioNet, self).__init__(observation_space, features_dim)\n",
    "        n_input_channels = observation_space.shape[0]\n",
    "        self.cnn = nn.Sequential(\n",
    "            nn.Conv2d(n_input_channels, 32, kernel_size=3, stride=2, padding=1),\n",
    "            nn.ReLU(),\n",
    "            nn.Conv2d(32, 32, kernel_size=3, stride=2, padding=1),\n",
    "            nn.ReLU(),\n",
    "            nn.Conv2d(32, 32, kernel_size=3, stride=2, padding=1),\n",
    "            nn.ReLU(),\n",
    "            nn.Conv2d(32, 32, kernel_size=3, stride=2, padding=1),\n",
    "            nn.ReLU(),\n",
    "            nn.Flatten(),\n",
    "        )\n",
    "\n",
    "        # Compute shape by doing one forward pass\n",
    "        with th.no_grad():\n",
    "            n_flatten = self.cnn(th.as_tensor(observation_space.sample()[None]).float()).shape[1]\n",
    "\n",
    "        self.linear = nn.Sequential(nn.Linear(n_flatten, features_dim), nn.ReLU())\n",
    "\n",
    "    def forward(self, observations: th.Tensor) -> th.Tensor:\n",
    "        return self.linear(self.cnn(observations))\n",
    "\n",
    "policy_kwargs = dict(\n",
    "    features_extractor_class=MarioNet,\n",
    "    features_extractor_kwargs=dict(features_dim=512),\n",
    ")"
   ]
  },
  {
   "cell_type": "markdown",
   "metadata": {
    "id": "dKUBlwGtvigg"
   },
   "source": [
    "ログの設定をします。"
   ]
  },
  {
   "cell_type": "code",
   "execution_count": 21,
   "metadata": {
    "id": "OTPAwg6ZWdWi"
   },
   "outputs": [
    {
     "name": "stdout",
     "output_type": "stream",
     "text": [
      "logs/2022-02-06T23-21-03/reward_log.csv\n"
     ]
    }
   ],
   "source": [
    "from pathlib import Path\n",
    "import datetime\n",
    "from pytz import timezone\n",
    "save_dir = Path(LOG_DIR) / datetime.datetime.now(timezone('Asia/Tokyo')).strftime(\"%Y-%m-%dT%H-%M-%S\")\n",
    "save_dir.mkdir(parents=True)\n",
    "reward_log_path = (save_dir / 'reward_log.csv')\n",
    "placeholder_path = (save_dir / '{}.txt'.format(STAGE_NAME) )\n",
    "placeholder_path.touch()\n",
    "print(reward_log_path)"
   ]
  },
  {
   "cell_type": "code",
   "execution_count": 22,
   "metadata": {
    "id": "ObKkqRVlvjw4"
   },
   "outputs": [],
   "source": [
    "with open(reward_log_path, 'a') as f:\n",
    "    print('timesteps,reward,best_reward', file=f)"
   ]
  },
  {
   "cell_type": "markdown",
   "metadata": {
    "id": "e1cO99I-xl3p"
   },
   "source": [
    "学習のコールバック関数の設定をします。"
   ]
  },
  {
   "cell_type": "code",
   "execution_count": 23,
   "metadata": {
    "id": "2B2v_2bGiWMZ"
   },
   "outputs": [],
   "source": [
    "class TrainAndLoggingCallback(BaseCallback):\n",
    "    def __init__(self, check_freq, save_path, verbose=1):\n",
    "        super(TrainAndLoggingCallback, self).__init__(verbose)\n",
    "        self.check_freq = check_freq\n",
    "        self.save_path = save_path\n",
    "\n",
    "    def _init_callback(self):\n",
    "        if self.save_path is not None:\n",
    "            os.makedirs(self.save_path, exist_ok=True)\n",
    "\n",
    "    def _on_step(self):\n",
    "        if self.n_calls % self.check_freq == 0:\n",
    "            model_path = (save_dir / 'best_model_{}'.format(self.n_calls))\n",
    "            self.model.save(model_path)\n",
    "\n",
    "            total_reward = [0] * EPISODE_NUMBERS\n",
    "            total_time = [0] * EPISODE_NUMBERS\n",
    "            best_reward = 0\n",
    "\n",
    "            for i in range(EPISODE_NUMBERS):\n",
    "                state = env.reset()  # reset for each new trial\n",
    "                done = False\n",
    "                total_reward[i] = 0\n",
    "                total_time[i] = 0\n",
    "                while not done and total_time[i] < MAX_TIMESTEP_TEST:\n",
    "                    action, _ = model.predict(state)\n",
    "                    state, reward, done, info = env.step(action)\n",
    "                    total_reward[i] += reward[0]\n",
    "                    total_time[i] += 1\n",
    "\n",
    "                if total_reward[i] > best_reward:\n",
    "                    best_reward = total_reward[i]\n",
    "                    best_epoch = self.n_calls\n",
    "\n",
    "                state = env.reset()  # reset for each new trial\n",
    "\n",
    "            print('time steps:', self.n_calls, '/', TOTAL_TIMESTEP_NUMB)\n",
    "            print('average reward:', (sum(total_reward) / EPISODE_NUMBERS),\n",
    "                  'average time:', (sum(total_time) / EPISODE_NUMBERS),\n",
    "                  'best_reward:', best_reward)\n",
    "\n",
    "            with open(reward_log_path, 'a') as f:\n",
    "                print(self.n_calls, ',', sum(total_reward) / EPISODE_NUMBERS, ',', best_reward, file=f)\n",
    "\n",
    "        return True"
   ]
  },
  {
   "cell_type": "markdown",
   "metadata": {
    "id": "-8PkLU-tkit0"
   },
   "source": [
    "学習の際、モデルを保存するコールバック関数をセットアップします。"
   ]
  },
  {
   "cell_type": "code",
   "execution_count": 24,
   "metadata": {
    "id": "XZ6eh0nBics5"
   },
   "outputs": [],
   "source": [
    "callback = TrainAndLoggingCallback(check_freq=CHECK_FREQ_NUMB, save_path=save_dir)"
   ]
  },
  {
   "cell_type": "markdown",
   "metadata": {
    "id": "muIMBXQeCtIn"
   },
   "source": [
    "AIマリオのモデルを定義します。最初から学習させる場合は以下です。"
   ]
  },
  {
   "cell_type": "code",
   "execution_count": null,
   "metadata": {
    "id": "pnYlhNlgu9jX"
   },
   "outputs": [],
   "source": [
    "model = PPO('CnnPolicy', env, verbose=0, policy_kwargs=policy_kwargs, tensorboard_log=save_dir, learning_rate=LEARNING_RATE, n_steps=N_STEPS,\n",
    "              batch_size=BATCH_SIZE, n_epochs=N_EPOCHS, gamma=GAMMA, gae_lambda=GAE, ent_coef=ENT_COEF)"
   ]
  },
  {
   "cell_type": "markdown",
   "metadata": {
    "id": "hRdCheeIjA7A"
   },
   "source": [
    "途中から学習させる場合は、以下コードを参考にモデルを読み込みましょう"
   ]
  },
  {
   "cell_type": "code",
   "execution_count": null,
   "metadata": {
    "colab": {
     "base_uri": "https://localhost:8080/"
    },
    "id": "bvPLs6YZhMZU",
    "outputId": "8f8887d3-0d3e-4565-f5bc-bde7f25e61ca"
   },
   "outputs": [],
   "source": [
    "#import gdown\n",
    "#gdown.download('https://drive.google.com/uc?id=1Q6loj0KMvJhNXSNqPAetP0DEWItO6Kdm', 'best_model_4230000.zip', quiet=False)\n",
    "#model_path = 'best_model_4230000'"
   ]
  },
  {
   "cell_type": "code",
   "execution_count": 25,
   "metadata": {},
   "outputs": [],
   "source": [
    "model_path = './logs/2022-02-06T04-20-34/best_model_990000'"
   ]
  },
  {
   "cell_type": "code",
   "execution_count": 26,
   "metadata": {
    "id": "T59RQnTj4wPj"
   },
   "outputs": [],
   "source": [
    "model = PPO.load(model_path, env, verbose=0, tensorboard_log=save_dir, learning_rate=LEARNING_RATE, n_steps=N_STEPS,\n",
    "                 batch_size=BATCH_SIZE, n_epochs=N_EPOCHS, gamma=GAMMA, gae_lambda=GAE, ent_coef=ENT_COEF)"
   ]
  },
  {
   "cell_type": "markdown",
   "metadata": {
    "id": "TnoTCJSoeVEM"
   },
   "source": [
    "AIモデルを学習します。\n",
    "\n",
    "学習は、500万タイムステップ以上。追加学習をして30時間程度かかりました。"
   ]
  },
  {
   "cell_type": "code",
   "execution_count": null,
   "metadata": {
    "colab": {
     "base_uri": "https://localhost:8080/",
     "height": 1000
    },
    "id": "bncCbR_Uicz0",
    "outputId": "e4161178-61e6-4675-d7af-61146d6590eb"
   },
   "outputs": [
    {
     "name": "stderr",
     "output_type": "stream",
     "text": [
      "/opt/conda/lib/python3.7/site-packages/gym_super_mario_bros/smb_env.py:148: RuntimeWarning: overflow encountered in ubyte_scalars\n",
      "  return (self.ram[0x86] - self.ram[0x071c]) % 256\n"
     ]
    },
    {
     "name": "stdout",
     "output_type": "stream",
     "text": [
      "time steps: 10000 / 5000000\n",
      "average reward: 714.9700073562562 average time: 449.55 best_reward: 1321.2000228613615\n",
      "time steps: 20000 / 5000000\n",
      "average reward: 449.61999975703657 average time: 310.2 best_reward: 767.4000096172094\n",
      "time steps: 30000 / 5000000\n",
      "average reward: 559.8150002375245 average time: 403.85 best_reward: 923.0000101700425\n",
      "time steps: 40000 / 5000000\n",
      "average reward: 564.0750011455268 average time: 324.35 best_reward: 932.7000085711479\n",
      "time steps: 50000 / 5000000\n",
      "average reward: 564.6450009573251 average time: 300.6 best_reward: 1123.1000165045261\n",
      "time steps: 60000 / 5000000\n",
      "average reward: 557.9050016433 average time: 339.2 best_reward: 886.5000151246786\n",
      "time steps: 70000 / 5000000\n",
      "average reward: 544.0449995294214 average time: 281.2 best_reward: 1136.6000161096454\n",
      "time steps: 80000 / 5000000\n",
      "average reward: 777.0250085040927 average time: 504.55 best_reward: 1323.0000237375498\n",
      "time steps: 90000 / 5000000\n",
      "average reward: 970.3350174296647 average time: 672.35 best_reward: 1377.6000328063965\n",
      "time steps: 100000 / 5000000\n",
      "average reward: 509.66999816037713 average time: 233.75 best_reward: 722.7000026404858\n",
      "time steps: 110000 / 5000000\n",
      "average reward: 493.91499715037645 average time: 294.25 best_reward: 722.3000024929643\n",
      "time steps: 120000 / 5000000\n",
      "average reward: 499.3799973014742 average time: 255.1 best_reward: 729.0000014230609\n",
      "time steps: 130000 / 5000000\n",
      "average reward: 588.9500023394824 average time: 347.9 best_reward: 1270.9000276848674\n",
      "time steps: 140000 / 5000000\n",
      "average reward: 181.40499846860766 average time: 77.3 best_reward: 525.4999950826168\n",
      "time steps: 150000 / 5000000\n",
      "average reward: 450.344999986887 average time: 232.2 best_reward: 920.8000087738037\n",
      "time steps: 160000 / 5000000\n",
      "average reward: 753.1500094108284 average time: 481.0 best_reward: 1377.6000328063965\n",
      "time steps: 170000 / 5000000\n",
      "average reward: 525.154999152571 average time: 265.4 best_reward: 722.3000025674701\n",
      "time steps: 180000 / 5000000\n",
      "average reward: 562.7300035338849 average time: 363.15 best_reward: 1086.1000212281942\n",
      "time steps: 190000 / 5000000\n",
      "average reward: 487.76499573998154 average time: 212.15 best_reward: 722.3000023886561\n",
      "time steps: 200000 / 5000000\n",
      "average reward: 370.24999853521587 average time: 172.75 best_reward: 721.7000025138259\n",
      "time steps: 210000 / 5000000\n",
      "average reward: 625.7850037593395 average time: 372.35 best_reward: 1326.900029875338\n",
      "time steps: 220000 / 5000000\n",
      "average reward: 518.9849986065179 average time: 267.65 best_reward: 932.1000085026026\n",
      "time steps: 230000 / 5000000\n",
      "average reward: 475.5400008544326 average time: 253.85 best_reward: 1088.2000214532018\n",
      "time steps: 240000 / 5000000\n",
      "average reward: 628.0700048107653 average time: 440.35 best_reward: 1267.9000282660127\n",
      "time steps: 250000 / 5000000\n",
      "average reward: 550.8300028599799 average time: 332.05 best_reward: 969.7000165954232\n",
      "time steps: 260000 / 5000000\n",
      "average reward: 407.22999672591686 average time: 178.7 best_reward: 722.0000025108457\n",
      "time steps: 270000 / 5000000\n",
      "average reward: 404.82499638833104 average time: 373.3 best_reward: 627.1999980732799\n",
      "time steps: 280000 / 5000000\n",
      "average reward: 388.61499576307835 average time: 202.35 best_reward: 566.3000022098422\n",
      "time steps: 290000 / 5000000\n",
      "average reward: 452.03499876447023 average time: 276.0 best_reward: 769.1000096723437\n",
      "time steps: 300000 / 5000000\n",
      "average reward: 433.2649965643883 average time: 297.05 best_reward: 686.6000068262219\n",
      "time steps: 310000 / 5000000\n",
      "average reward: 409.2199918348342 average time: 610.7 best_reward: 423.29999104887247\n",
      "time steps: 320000 / 5000000\n",
      "average reward: 400.68999169655143 average time: 821.85 best_reward: 423.29999104887247\n",
      "time steps: 330000 / 5000000\n",
      "average reward: 346.7349935978651 average time: 517.9 best_reward: 645.499990105629\n",
      "time steps: 340000 / 5000000\n",
      "average reward: 522.2349911853671 average time: 275.4 best_reward: 701.6999913975596\n",
      "time steps: 350000 / 5000000\n",
      "average reward: 564.4599909991026 average time: 229.45 best_reward: 649.3999900072813\n",
      "time steps: 360000 / 5000000\n",
      "average reward: 454.43999191969635 average time: 210.05 best_reward: 649.4999893382192\n",
      "time steps: 370000 / 5000000\n",
      "average reward: 415.8149929068983 average time: 332.75 best_reward: 749.8999931812286\n",
      "time steps: 380000 / 5000000\n",
      "average reward: 256.2149950679392 average time: 475.2 best_reward: 423.29999104887247\n",
      "time steps: 390000 / 5000000\n",
      "average reward: 347.69499376416206 average time: 665.05 best_reward: 513.3999956399202\n",
      "time steps: 400000 / 5000000\n",
      "average reward: 156.24999754950403 average time: 251.6 best_reward: 540.1999902576208\n",
      "time steps: 410000 / 5000000\n",
      "average reward: 244.00499556921423 average time: 389.4 best_reward: 648.299989528954\n",
      "time steps: 420000 / 5000000\n",
      "average reward: 254.69499626867474 average time: 318.4 best_reward: 422.99999079853296\n",
      "time steps: 430000 / 5000000\n",
      "average reward: 319.079994725436 average time: 463.65 best_reward: 467.1999994441867\n",
      "time steps: 440000 / 5000000\n",
      "average reward: 230.92999692559243 average time: 184.1 best_reward: 519.3999998643994\n",
      "time steps: 450000 / 5000000\n",
      "average reward: 342.09499643184245 average time: 244.6 best_reward: 716.5000014528632\n",
      "time steps: 460000 / 5000000\n",
      "average reward: 407.77499261200427 average time: 709.25 best_reward: 641.1999896019697\n",
      "time steps: 470000 / 5000000\n",
      "average reward: 345.06999707818034 average time: 164.7 best_reward: 697.9000065475702\n",
      "time steps: 480000 / 5000000\n",
      "average reward: 391.3049972396344 average time: 197.35 best_reward: 572.6000016257167\n",
      "time steps: 490000 / 5000000\n",
      "average reward: 414.2399982850999 average time: 270.5 best_reward: 724.1000066846609\n",
      "time steps: 500000 / 5000000\n",
      "average reward: 456.48999956659975 average time: 265.5 best_reward: 718.3000024333596\n",
      "time steps: 510000 / 5000000\n",
      "average reward: 428.26499808430674 average time: 231.95 best_reward: 769.100009649992\n",
      "time steps: 520000 / 5000000\n",
      "average reward: 478.9099983222783 average time: 250.3 best_reward: 773.2000081762671\n",
      "time steps: 530000 / 5000000\n",
      "average reward: 529.4600008778274 average time: 296.6 best_reward: 885.1000150293112\n",
      "time steps: 540000 / 5000000\n",
      "average reward: 586.4200040791184 average time: 381.85 best_reward: 1084.7000210285187\n",
      "time steps: 550000 / 5000000\n",
      "average reward: 395.81499347276986 average time: 585.8 best_reward: 566.9000023752451\n",
      "time steps: 560000 / 5000000\n",
      "average reward: 414.8199915573001 average time: 740.75 best_reward: 423.2999909296632\n",
      "time steps: 570000 / 5000000\n",
      "average reward: 431.3049916695803 average time: 880.1 best_reward: 522.399995341897\n",
      "time steps: 580000 / 5000000\n",
      "average reward: 190.12999656349422 average time: 192.65 best_reward: 423.2999909296632\n",
      "time steps: 590000 / 5000000\n",
      "average reward: 101.14499841593206 average time: 167.2 best_reward: 423.2999909296632\n",
      "time steps: 600000 / 5000000\n",
      "average reward: 399.18499156981704 average time: 818.15 best_reward: 423.29999104887247\n",
      "time steps: 610000 / 5000000\n",
      "average reward: 319.2549937166274 average time: 624.55 best_reward: 522.399995341897\n",
      "time steps: 620000 / 5000000\n",
      "average reward: 429.50499451868234 average time: 578.55 best_reward: 714.800001129508\n",
      "time steps: 630000 / 5000000\n",
      "average reward: 700.6400060649961 average time: 460.6 best_reward: 1071.4000205919147\n",
      "time steps: 640000 / 5000000\n",
      "average reward: 596.0950012028218 average time: 346.1 best_reward: 894.1000157669187\n",
      "time steps: 650000 / 5000000\n",
      "average reward: 509.7999983437359 average time: 401.3 best_reward: 729.3000019490719\n",
      "time steps: 660000 / 5000000\n",
      "average reward: 509.9299997564405 average time: 256.8 best_reward: 885.7000150084496\n",
      "time steps: 670000 / 5000000\n",
      "average reward: 511.014998094365 average time: 239.15 best_reward: 722.6000026613474\n",
      "time steps: 680000 / 5000000\n",
      "average reward: 583.4300046704709 average time: 397.3 best_reward: 1072.8000203222036\n",
      "time steps: 690000 / 5000000\n",
      "average reward: 688.3900075715035 average time: 475.4 best_reward: 1169.0000240504742\n",
      "time steps: 700000 / 5000000\n",
      "average reward: 358.11499761790037 average time: 275.15 best_reward: 887.20001514256\n",
      "time steps: 710000 / 5000000\n",
      "average reward: 697.1500067107379 average time: 589.6 best_reward: 1377.6000328063965\n",
      "time steps: 720000 / 5000000\n",
      "average reward: 474.1999975666404 average time: 528.6 best_reward: 769.9000104367733\n",
      "time steps: 730000 / 5000000\n",
      "average reward: 409.7549925278872 average time: 839.25 best_reward: 566.1000029817224\n",
      "time steps: 740000 / 5000000\n",
      "average reward: 399.5049929950386 average time: 791.1 best_reward: 567.8000034466386\n",
      "time steps: 750000 / 5000000\n",
      "average reward: 425.3350000869483 average time: 305.6 best_reward: 772.2000095024705\n",
      "time steps: 760000 / 5000000\n",
      "average reward: 487.66000549457965 average time: 384.25 best_reward: 1287.2000284194946\n",
      "time steps: 770000 / 5000000\n",
      "average reward: 623.4300024416298 average time: 784.3 best_reward: 1365.5000320971012\n",
      "time steps: 780000 / 5000000\n",
      "average reward: 393.41499301493167 average time: 652.3 best_reward: 524.8999947458506\n",
      "time steps: 790000 / 5000000\n",
      "average reward: 345.70499274730685 average time: 803.6 best_reward: 423.2999909296632\n",
      "time steps: 800000 / 5000000\n",
      "average reward: 407.9799925167114 average time: 659.55 best_reward: 721.1000029668212\n",
      "time steps: 810000 / 5000000\n",
      "average reward: 406.47999260909853 average time: 703.35 best_reward: 547.1999895125628\n",
      "time steps: 820000 / 5000000\n",
      "average reward: 370.0699928984046 average time: 378.7 best_reward: 520.7999958693981\n",
      "time steps: 830000 / 5000000\n",
      "average reward: 391.4799935683608 average time: 532.95 best_reward: 486.1000005081296\n",
      "time steps: 840000 / 5000000\n",
      "average reward: 378.3049923188984 average time: 727.8 best_reward: 423.09999120235443\n",
      "time steps: 850000 / 5000000\n",
      "average reward: 509.20499417297543 average time: 315.55 best_reward: 803.1000112965703\n",
      "time steps: 860000 / 5000000\n",
      "average reward: 429.8949927914888 average time: 784.6 best_reward: 764.8000099658966\n",
      "time steps: 870000 / 5000000\n",
      "average reward: 292.5849942918867 average time: 656.3 best_reward: 524.8999947458506\n",
      "time steps: 880000 / 5000000\n",
      "average reward: 418.634991864115 average time: 876.05 best_reward: 653.2999904602766\n",
      "time steps: 890000 / 5000000\n",
      "average reward: 384.5099918372929 average time: 901.8 best_reward: 423.2999909296632\n",
      "time steps: 900000 / 5000000\n",
      "average reward: 403.75999179929494 average time: 513.85 best_reward: 424.09999173879623\n",
      "time steps: 910000 / 5000000\n",
      "average reward: 409.56499164663256 average time: 780.4 best_reward: 423.2999909296632\n",
      "time steps: 920000 / 5000000\n",
      "average reward: 417.2199921324849 average time: 906.0 best_reward: 599.1000035405159\n",
      "time steps: 930000 / 5000000\n",
      "average reward: 411.3999914098531 average time: 778.5 best_reward: 427.6999914050102\n",
      "time steps: 940000 / 5000000\n",
      "average reward: 309.54499360360205 average time: 662.85 best_reward: 423.2999909296632\n",
      "time steps: 950000 / 5000000\n",
      "average reward: 218.2049957256764 average time: 419.4 best_reward: 423.2999909296632\n",
      "time steps: 960000 / 5000000\n",
      "average reward: 384.31499188877643 average time: 857.95 best_reward: 423.2999909296632\n",
      "time steps: 970000 / 5000000\n",
      "average reward: 161.87999728694558 average time: 177.05 best_reward: 423.2999909296632\n",
      "time steps: 980000 / 5000000\n",
      "average reward: 422.10499148480596 average time: 123.75 best_reward: 427.6999914050102\n",
      "time steps: 990000 / 5000000\n",
      "average reward: 420.4499916132539 average time: 121.45 best_reward: 427.6999914050102\n",
      "time steps: 1000000 / 5000000\n",
      "average reward: 419.1349948439747 average time: 276.15 best_reward: 601.5000031888485\n",
      "time steps: 1010000 / 5000000\n",
      "average reward: 406.9699920680374 average time: 779.7 best_reward: 524.8999947458506\n",
      "time steps: 1020000 / 5000000\n",
      "average reward: 433.3499938093126 average time: 730.6 best_reward: 646.5999896153808\n",
      "time steps: 1030000 / 5000000\n",
      "average reward: 410.9549920815974 average time: 876.8 best_reward: 521.5999956279993\n",
      "time steps: 1040000 / 5000000\n",
      "average reward: 405.9499918613583 average time: 908.95 best_reward: 524.8999947607517\n",
      "time steps: 1050000 / 5000000\n",
      "average reward: 394.60999221205714 average time: 902.0 best_reward: 524.8999947085977\n",
      "time steps: 1060000 / 5000000\n",
      "average reward: 381.6849947337061 average time: 271.9 best_reward: 671.600005634129\n",
      "time steps: 1070000 / 5000000\n",
      "average reward: 437.4399940147996 average time: 491.35 best_reward: 697.6999903321266\n",
      "time steps: 1080000 / 5000000\n",
      "average reward: 345.62999600730836 average time: 294.05 best_reward: 699.7000071406364\n",
      "time steps: 1090000 / 5000000\n",
      "average reward: 353.79999641515315 average time: 209.15 best_reward: 722.1000023558736\n",
      "time steps: 1100000 / 5000000\n",
      "average reward: 412.89499582350254 average time: 211.65 best_reward: 841.4999971464276\n",
      "time steps: 1110000 / 5000000\n",
      "average reward: 338.0449956852943 average time: 267.55 best_reward: 524.8999947458506\n",
      "time steps: 1120000 / 5000000\n",
      "average reward: 394.8299933843315 average time: 665.3 best_reward: 640.4999895766377\n",
      "time steps: 1130000 / 5000000\n",
      "average reward: 386.93999661952256 average time: 484.1 best_reward: 599.9000030010939\n",
      "time steps: 1140000 / 5000000\n",
      "average reward: 488.66999566182494 average time: 756.4 best_reward: 696.5000049546361\n",
      "time steps: 1150000 / 5000000\n",
      "average reward: 405.9999935742468 average time: 723.7 best_reward: 524.8999947458506\n",
      "time steps: 1160000 / 5000000\n",
      "average reward: 457.5499950166792 average time: 512.7 best_reward: 524.8999947458506\n",
      "time steps: 1170000 / 5000000\n",
      "average reward: 443.9699947848916 average time: 783.85 best_reward: 726.4000064134598\n",
      "time steps: 1180000 / 5000000\n",
      "average reward: 424.83499534986913 average time: 535.25 best_reward: 919.4000100195408\n",
      "time steps: 1190000 / 5000000\n",
      "average reward: 181.10999684371055 average time: 323.8 best_reward: 423.2999909296632\n",
      "time steps: 1200000 / 5000000\n",
      "average reward: 453.6499921090901 average time: 960.75 best_reward: 524.8999947458506\n",
      "time steps: 1210000 / 5000000\n",
      "average reward: 458.54499226361514 average time: 922.8 best_reward: 626.9999982193112\n",
      "time steps: 1220000 / 5000000\n",
      "average reward: 476.70999511405824 average time: 821.6 best_reward: 728.8000017479062\n",
      "time steps: 1230000 / 5000000\n",
      "average reward: 466.02499277964233 average time: 906.55 best_reward: 882.3000143989921\n",
      "time steps: 1240000 / 5000000\n",
      "average reward: 387.0899918101728 average time: 902.0 best_reward: 475.89999068528414\n",
      "time steps: 1250000 / 5000000\n",
      "average reward: 480.2649944603443 average time: 745.55 best_reward: 904.2000126689672\n",
      "time steps: 1260000 / 5000000\n",
      "average reward: 447.3399986188859 average time: 469.1 best_reward: 891.7000124230981\n",
      "time steps: 1270000 / 5000000\n",
      "average reward: 304.18499461747706 average time: 587.4 best_reward: 565.6000028252602\n",
      "time steps: 1280000 / 5000000\n",
      "average reward: 424.10499234162273 average time: 835.8 best_reward: 647.8999892994761\n",
      "time steps: 1290000 / 5000000\n",
      "average reward: 423.2299909826368 average time: 1000.0 best_reward: 423.29999113082886\n",
      "time steps: 1300000 / 5000000\n",
      "average reward: 467.8099916383624 average time: 547.15 best_reward: 698.299991376698\n",
      "time steps: 1310000 / 5000000\n",
      "average reward: 551.6349902309478 average time: 356.65 best_reward: 649.7999896481633\n",
      "time steps: 1320000 / 5000000\n",
      "average reward: 507.88999125547707 average time: 273.45 best_reward: 648.8999892473221\n",
      "time steps: 1330000 / 5000000\n",
      "average reward: 451.4199987921864 average time: 336.0 best_reward: 920.3000091537833\n",
      "time steps: 1340000 / 5000000\n",
      "average reward: 460.83999507911506 average time: 333.8 best_reward: 799.0000113993883\n",
      "time steps: 1350000 / 5000000\n",
      "average reward: 518.0349919073284 average time: 190.75 best_reward: 651.0999899059534\n",
      "time steps: 1360000 / 5000000\n",
      "average reward: 399.66999417133627 average time: 206.95 best_reward: 649.4999896138906\n",
      "time steps: 1370000 / 5000000\n",
      "average reward: 370.584994206205 average time: 443.7 best_reward: 524.8999947458506\n",
      "time steps: 1380000 / 5000000\n",
      "average reward: 362.65499557591977 average time: 236.15 best_reward: 648.2999891638756\n",
      "time steps: 1390000 / 5000000\n",
      "average reward: 506.35999509878457 average time: 316.65 best_reward: 908.8000125735998\n",
      "time steps: 1400000 / 5000000\n",
      "average reward: 269.45999624207616 average time: 160.85 best_reward: 647.6999894604087\n",
      "time steps: 1410000 / 5000000\n",
      "average reward: 429.349992223829 average time: 512.0 best_reward: 748.9999928548932\n",
      "time steps: 1420000 / 5000000\n",
      "average reward: 559.1299987401813 average time: 347.8 best_reward: 921.7000087574124\n",
      "time steps: 1430000 / 5000000\n",
      "average reward: 488.9949975542724 average time: 276.8 best_reward: 766.6000099182129\n",
      "time steps: 1440000 / 5000000\n",
      "average reward: 523.9499970600009 average time: 309.1 best_reward: 812.6000089123845\n",
      "time steps: 1450000 / 5000000\n",
      "average reward: 518.6749960005284 average time: 506.25 best_reward: 748.8999930173159\n"
     ]
    }
   ],
   "source": [
    "%%time\n",
    "model.learn(total_timesteps=TOTAL_TIMESTEP_NUMB, callback=callback)"
   ]
  },
  {
   "cell_type": "markdown",
   "metadata": {
    "id": "n_v2gr3dJa4g"
   },
   "source": [
    "報酬の遷移を可視化します。"
   ]
  },
  {
   "cell_type": "code",
   "execution_count": 28,
   "metadata": {
    "colab": {
     "base_uri": "https://localhost:8080/",
     "height": 297
    },
    "id": "Lb6NSYtvxH9a",
    "outputId": "a55aa5ec-f897-4a1e-d326-fc0ac1b91d19"
   },
   "outputs": [
    {
     "data": {
      "text/plain": [
       "<AxesSubplot:xlabel='timesteps'>"
      ]
     },
     "execution_count": 28,
     "metadata": {},
     "output_type": "execute_result"
    },
    {
     "data": {
      "image/png": "[encoded data removed]",
      "text/plain": [
       "<Figure size 432x288 with 1 Axes>"
      ]
     },
     "metadata": {
      "needs_background": "light"
     },
     "output_type": "display_data"
    }
   ],
   "source": [
    "import pandas as pd\n",
    "reward_log = pd.read_csv(reward_log_path, index_col='timesteps')\n",
    "reward_log.plot()"
   ]
  },
  {
   "cell_type": "markdown",
   "metadata": {
    "id": "aMaN-DrMoQQ8"
   },
   "source": [
    "最も良かった世代を選択します。"
   ]
  },
  {
   "cell_type": "code",
   "execution_count": 29,
   "metadata": {
    "colab": {
     "base_uri": "https://localhost:8080/"
    },
    "id": "7lB8AdCuU5ST",
    "outputId": "bd2c4fee-c6b6-4b00-f799-3e97cb543f2e"
   },
   "outputs": [
    {
     "name": "stdout",
     "output_type": "stream",
     "text": [
      "best epoch: 90000\n"
     ]
    }
   ],
   "source": [
    "best_epoch = reward_log['reward'].idxmax()\n",
    "print('best epoch:', best_epoch)"
   ]
  },
  {
   "cell_type": "markdown",
   "metadata": {
    "id": "gox1d_Nqir7z"
   },
   "source": [
    "## AIマリオのテスト\n",
    "\n",
    "AIモデルをテストします。"
   ]
  },
  {
   "cell_type": "markdown",
   "metadata": {
    "id": "nAaP9w5C1gGj"
   },
   "source": [
    "### AIマリオのモデルの読み込み"
   ]
  },
  {
   "cell_type": "markdown",
   "metadata": {
    "id": "V2dpVBJYhys3"
   },
   "source": [
    "#### 学習済みモデルを使用\n",
    "学習済みモデルを使用する場合は、学習済みモデルを以下コマンドでダウンロードして読み込みます。\n",
    "\n",
    "読み込んだら、次は飛ばして、AIマリオのプレイを実施してください。"
   ]
  },
  {
   "cell_type": "code",
   "execution_count": null,
   "metadata": {
    "colab": {
     "base_uri": "https://localhost:8080/"
    },
    "id": "sfSXkqqPRGu6",
    "outputId": "993b3463-7ed4-484b-f01c-7c5a4de93611"
   },
   "outputs": [],
   "source": [
    "!wget -N https://github.com/karaage0703/mario-ai-challenge/files/8003833/mario_4_3.zip"
   ]
  },
  {
   "cell_type": "code",
   "execution_count": null,
   "metadata": {
    "id": "ch7QLMI9RS17"
   },
   "outputs": [],
   "source": [
    "model = PPO.load('mario_4_3')"
   ]
  },
  {
   "cell_type": "markdown",
   "metadata": {
    "id": "DUyLjPh08Q2T"
   },
   "source": [
    "#### このノートブックで学習したモデルを使用\n",
    "注：学習済みモデルを使用する場合は、ここは飛ばしてください。\n",
    "\n",
    "このノートブックで学習したモデルを以下コマンドを実行して読み込みます。平均報酬が一番高い世代のモデルを読み込みます。"
   ]
  },
  {
   "cell_type": "code",
   "execution_count": 30,
   "metadata": {
    "id": "KmYYrDyZWXsr"
   },
   "outputs": [],
   "source": [
    "best_model_path = os.path.join(save_dir, 'best_model_{}'.format(best_epoch))\n",
    "model = PPO.load(best_model_path)"
   ]
  },
  {
   "cell_type": "code",
   "execution_count": 31,
   "metadata": {
    "colab": {
     "base_uri": "https://localhost:8080/"
    },
    "id": "M37Ov2iqwixv",
    "outputId": "27ce1a1f-cd15-4f88-e44a-44d49853f366"
   },
   "outputs": [
    {
     "data": {
      "text/plain": [
       "90000"
      ]
     },
     "execution_count": 31,
     "metadata": {},
     "output_type": "execute_result"
    }
   ],
   "source": [
    "best_epoch"
   ]
  },
  {
   "cell_type": "markdown",
   "metadata": {
    "id": "d1J7qje3-XMc"
   },
   "source": [
    "#### AIマリオのプレイ\n",
    "テストした結果を表示すると共に、1番良いときの画像ログデータを保存します。"
   ]
  },
  {
   "cell_type": "markdown",
   "metadata": {
    "id": "M_5QHVsKFsn0"
   },
   "source": [
    "テスト回数を設定"
   ]
  },
  {
   "cell_type": "code",
   "execution_count": 32,
   "metadata": {
    "id": "CdUGVdTzFqPm"
   },
   "outputs": [],
   "source": [
    "EPISODE_NUMBERS = 20\n",
    "MAX_TIMESTEP_TEST = 1000"
   ]
  },
  {
   "cell_type": "code",
   "execution_count": 33,
   "metadata": {
    "colab": {
     "base_uri": "https://localhost:8080/"
    },
    "id": "BUtzYd9w-oCR",
    "outputId": "59679b3d-132a-41ae-f65c-31c54df72b29"
   },
   "outputs": [
    {
     "name": "stderr",
     "output_type": "stream",
     "text": [
      "/opt/conda/lib/python3.7/site-packages/gym_super_mario_bros/smb_env.py:148: RuntimeWarning: overflow encountered in ubyte_scalars\n",
      "  return (self.ram[0x86] - self.ram[0x071c]) % 256\n"
     ]
    },
    {
     "name": "stdout",
     "output_type": "stream",
     "text": [
      "test episode: 0 reward: 184.69999661296606 time: 63\n",
      "test episode: 1 reward: 669.0000065118074 time: 421\n",
      "test episode: 2 reward: 468.89999954402447 time: 248\n",
      "test episode: 3 reward: 1025.1000189110637 time: 1000\n",
      "test episode: 4 reward: 1377.2000329494476 time: 1000\n",
      "test episode: 5 reward: 1353.1000312268734 time: 1000\n",
      "test episode: 6 reward: 567.7000029534101 time: 337\n",
      "test episode: 7 reward: 922.7000097855926 time: 552\n",
      "test episode: 8 reward: 969.3000172525644 time: 684\n",
      "test episode: 9 reward: 521.9999953433871 time: 212\n",
      "test episode: 10 reward: 1367.5000322535634 time: 1000\n",
      "test episode: 11 reward: 668.5000065788627 time: 415\n",
      "test episode: 12 reward: 887.1000152975321 time: 606\n",
      "test episode: 13 reward: 464.00000002235174 time: 235\n",
      "test episode: 14 reward: 1171.2000249102712 time: 844\n",
      "test episode: 15 reward: 521.9999953433871 time: 212\n",
      "test episode: 16 reward: 1166.2000251039863 time: 832\n",
      "test episode: 17 reward: 35.39999993890524 time: 18\n",
      "test episode: 18 reward: 287.2999948114157 time: 101\n",
      "test episode: 19 reward: 669.0000065118074 time: 421\n",
      "average reward: 764.895010593161 average time: 510.05 best_reward: 1377.2000329494476\n"
     ]
    }
   ],
   "source": [
    "import copy\n",
    "\n",
    "total_reward = [0] * EPISODE_NUMBERS\n",
    "total_time = [0] * EPISODE_NUMBERS\n",
    "best_reward = 0\n",
    "frames_best = []\n",
    "\n",
    "for i in range(EPISODE_NUMBERS):\n",
    "    state = env.reset()  # reset for each new trial\n",
    "    done = False\n",
    "    total_reward[i] = 0\n",
    "    total_time[i] = 0\n",
    "    frames = []\n",
    "    while not done and total_time[i] < MAX_TIMESTEP_TEST:\n",
    "        action, _ = model.predict(state)\n",
    "        state, reward, done, info = env.step(action)\n",
    "        total_reward[i] += reward[0]\n",
    "        total_time[i] += 1\n",
    "        frames.append(copy.deepcopy(env.render(mode = 'rgb_array')))\n",
    "\n",
    "    if total_reward[i] > best_reward:\n",
    "        best_reward = total_reward[i]\n",
    "        frames_best = copy.deepcopy(frames)\n",
    "\n",
    "    print('test episode:', i, 'reward:', total_reward[i], 'time:', total_time[i])\n",
    "\n",
    "    # Judgement Mario goal or not\n",
    "    if info[0]['flag_get']:\n",
    "        print(f\"<<< Mario get the flag. GOOOOOOOOOOOOOOOOOOOOOAL! >>>\")\n",
    "        break\n",
    "\n",
    "print('average reward:', (sum(total_reward) / EPISODE_NUMBERS),\n",
    "      'average time:', (sum(total_time) / EPISODE_NUMBERS),\n",
    "      'best_reward:', best_reward)"
   ]
  },
  {
   "cell_type": "markdown",
   "metadata": {
    "id": "pWtYUKEb2Vz8"
   },
   "source": [
    "`<<< Mario get the flag. GOOOOOOOOOOOOOOOOOOOOOAL! >>>`という表示ができたらクリアできています。\n",
    "\n",
    "クリアできない場合は、複数回プレイして一番良いプレイ動画が保存されます。\n",
    "\n",
    "実行のたびに結果は変わります。何回か試してみましょう。"
   ]
  },
  {
   "cell_type": "markdown",
   "metadata": {
    "id": "pMKMuMaxgGF7"
   },
   "source": [
    "## AIマリオのプレイ動画を保存・再生\n",
    "\n",
    "保存した画像ログから動画を保存・再生します。"
   ]
  },
  {
   "cell_type": "markdown",
   "metadata": {
    "id": "mgGsIOl9jVnR"
   },
   "source": [
    "画像が多いと動画生成や確認に時間がかかるため、画像を間引きます。\n",
    "\n",
    "画像を間引く割合を入力します（大きいほどたくさん間引きます）。"
   ]
  },
  {
   "cell_type": "code",
   "execution_count": 34,
   "metadata": {
    "id": "e8Z_I4hFgJqw"
   },
   "outputs": [],
   "source": [
    "SKIP_RATE = 1"
   ]
  },
  {
   "cell_type": "markdown",
   "metadata": {
    "id": "YmWH8b0Ajb9P"
   },
   "source": [
    "画像を間引く処理をします。"
   ]
  },
  {
   "cell_type": "code",
   "execution_count": 35,
   "metadata": {
    "id": "QIxuzQ5ngKuP"
   },
   "outputs": [],
   "source": [
    "if SKIP_RATE == 1:\n",
    "  frames_new = np.array(frames_best)\n",
    "else:\n",
    "  np_frames = np.array(frames_best)\n",
    "  frames_new = np_frames[::SKIP_RATE].tolist()"
   ]
  },
  {
   "cell_type": "markdown",
   "metadata": {
    "id": "TcXrwSawjeUD"
   },
   "source": [
    "Google Colab上で確認できる動画を生成します。生成後に再生ボタンを押すと、AIマリオのプレイ動画が見れます。"
   ]
  },
  {
   "cell_type": "code",
   "execution_count": null,
   "metadata": {
    "colab": {
     "base_uri": "https://localhost:8080/",
     "height": 534
    },
    "id": "LlhmlKSFgKzt",
    "outputId": "9488e503-aec5-4302-dd1b-a55f7278cc5d"
   },
   "outputs": [],
   "source": [
    "import matplotlib.animation\n",
    "from IPython.display import HTML\n",
    "\n",
    "matplotlib.rcParams['animation.embed_limit'] = 2**128\n",
    "plt.figure(figsize=(frames[0].shape[1] / 72.0, frames[0].shape[0] / 72.0), dpi = 72)\n",
    "patch = plt.imshow(frames_new[0])\n",
    "plt.axis('off')\n",
    "animate = lambda i: patch.set_data(frames_new[i])\n",
    "ani = matplotlib.animation.FuncAnimation(plt.gcf(), animate, frames=len(frames_new), interval = 50)\n",
    "HTML(ani.to_jshtml())"
   ]
  },
  {
   "cell_type": "markdown",
   "metadata": {
    "id": "etQCTXKoaSjf"
   },
   "source": [
    "動画形式で保存します。 H264は[大人の事情で扱いにくい](https://qiita.com/engineer/items/54e33bdacc173c84cc8a)のでMPEG4でエンコードします。"
   ]
  },
  {
   "cell_type": "code",
   "execution_count": null,
   "metadata": {
    "id": "TL_icaAQXeKn"
   },
   "outputs": [],
   "source": [
    "ani.save('ai_mario_{}.mp4'.format(STAGE_NAME), writer='ffmpeg', codec='mpeg4')"
   ]
  },
  {
   "cell_type": "markdown",
   "metadata": {
    "id": "km__QtDolsp3"
   },
   "source": [
    "動画ファイルをダウンロードします。"
   ]
  },
  {
   "cell_type": "code",
   "execution_count": null,
   "metadata": {
    "colab": {
     "base_uri": "https://localhost:8080/",
     "height": 17
    },
    "id": "OpN14WKrlyXx",
    "outputId": "f5f4cbd1-df59-4399-fff7-08d1c7671e3f"
   },
   "outputs": [],
   "source": [
    "# from google.colab import files\n",
    "# files.download('ai_mario_{}.mp4'.format(STAGE_NAME))"
   ]
  },
  {
   "cell_type": "markdown",
   "metadata": {
    "id": "on4fZsea8c4m"
   },
   "source": [
    "GIFアニメ形式で保存します。"
   ]
  },
  {
   "cell_type": "code",
   "execution_count": 37,
   "metadata": {
    "id": "hxpbxskf8ASM"
   },
   "outputs": [],
   "source": [
    "import imageio\n",
    "imageio.mimsave('ai_mario_{}.gif'.format(STAGE_NAME), [np.array(img) for i, img in enumerate(frames_best) if i%SKIP_RATE == 0], fps=15)"
   ]
  },
  {
   "cell_type": "markdown",
   "metadata": {
    "id": "fHQMe1hA8hju"
   },
   "source": [
    "GIFアニメをダウンロードします。"
   ]
  },
  {
   "cell_type": "code",
   "execution_count": null,
   "metadata": {
    "id": "56ds6rWK8FXL"
   },
   "outputs": [],
   "source": [
    "# from google.colab import files\n",
    "# files.download('ai_mario.gif')"
   ]
  }
 ],
 "metadata": {
  "accelerator": "GPU",
  "colab": {
   "collapsed_sections": [
    "kAYJDcRPiMv_",
    "hnbdcSKpSysU"
   ],
   "name": "mario_ai_challenge_4_3.ipynb",
   "provenance": []
  },
  "kernelspec": {
   "display_name": "Python 3 (ipykernel)",
   "language": "python",
   "name": "python3"
  },
  "language_info": {
   "codemirror_mode": {
    "name": "ipython",
    "version": 3
   },
   "file_extension": ".py",
   "mimetype": "text/x-python",
   "name": "python",
   "nbconvert_exporter": "python",
   "pygments_lexer": "ipython3",
   "version": "3.7.11"
  }
 },
 "nbformat": 4,
 "nbformat_minor": 4
}
